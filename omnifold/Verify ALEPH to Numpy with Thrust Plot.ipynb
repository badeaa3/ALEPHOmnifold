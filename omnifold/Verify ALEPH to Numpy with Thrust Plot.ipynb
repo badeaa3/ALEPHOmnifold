{
 "cells": [
  {
   "cell_type": "markdown",
   "metadata": {},
   "source": [
    "# Plotting Thrust Distribution with Event Selections"
   ]
  },
  {
   "cell_type": "code",
   "execution_count": 25,
   "metadata": {},
   "outputs": [],
   "source": [
    "# general\n",
    "import os\n",
    "import matplotlib.pyplot as plt\n",
    "import numpy as np\n",
    "\n",
    "# custom\n",
    "from aleph_to_numpy import aleph_to_numpy "
   ]
  },
  {
   "cell_type": "code",
   "execution_count": 26,
   "metadata": {},
   "outputs": [
    {
     "name": "stdout",
     "output_type": "stream",
     "text": [
      "data_thrust of size (1365440,)\n",
      "data_passselection of size (1365440,)\n",
      "truthWHES_thrust of size (771597,)\n",
      "truthWHES_passselection of size (771597,)\n",
      "truthWHES_eventweight of size (771597,)\n",
      "truthWOHES_thrust of size (973769,)\n",
      "truthWOHES_passselection of size (973769,)\n",
      "truthWOHES_eventweight of size (973769,)\n",
      "reco_passselection of size (771597,)\n",
      "reco_thrust of size (771597,)\n",
      "reco_eventweight of size (771597,)\n"
     ]
    }
   ],
   "source": [
    "aleph_path = '/Users/anthonybadea/Documents/ALEPH/ALEPH'\n",
    "data = aleph_to_numpy(os.path.join(aleph_path, 'LEP1Data1994_recons_aftercut-MERGED.root'))\n",
    "mc = aleph_to_numpy(os.path.join(aleph_path, 'alephMCRecoAfterCutPaths_1994.root'))\n",
    "\n",
    "for key,val in data.items():\n",
    "    print(f\"{key} of size {val.shape}\")\n",
    "for key,val in mc.items():\n",
    "    print(f\"{key} of size {val.shape}\")"
   ]
  },
  {
   "cell_type": "code",
   "execution_count": 27,
   "metadata": {},
   "outputs": [
    {
     "data": {
      "image/png": "[encoded data removed]",
      "text/plain": [
       "<Figure size 432x288 with 1 Axes>"
      ]
     },
     "metadata": {
      "needs_background": "light"
     },
     "output_type": "display_data"
    }
   ],
   "source": [
    "# compute the distributions to determine the bin-by-bin corrections\n",
    "bins = np.linspace(0.5, 1, 51)\n",
    "density = True\n",
    "\n",
    "opts = {'bins': bins, 'histtype': 'step', 'density': density}\n",
    "\n",
    "plt.hist(data['data_thrust'], color='black', label='Data - 1994', **opts)\n",
    "plt.hist(data['data_thrust'][data['data_passselection']], color='gray', label='Data w/ 1994 sel.', **opts)\n",
    "\n",
    "plt.hist(mc['reco_thrust'], color='orange', label='Reco', **opts)\n",
    "simhist = plt.hist(mc['reco_thrust'][mc['reco_passselection']], color='tab:olive', label='Reco w/ sel.', **opts)[0]\n",
    "\n",
    "plt.hist(mc['truthWHES_thrust'], color='blue', label='Truth', **opts)\n",
    "genhist = plt.hist(mc['truthWHES_thrust'][mc['truthWHES_passselection']], color='cyan', label='Truth w/ sel.', **opts)[0]\n",
    "genbhist = plt.hist(mc['truthWOHES_thrust'], color='green', label='Truth w/o hadronic sel.', **opts)[0]\n",
    "\n",
    "plt.yscale('log')\n",
    "\n",
    "#plt.ylim(10**-5.5, 1)\n",
    "\n",
    "plt.xlabel(r'Thrust $T$')\n",
    "plt.ylabel('Probability Density')\n",
    "\n",
    "plt.legend(loc=(0.4, 0.025), frameon=False)\n",
    "\n",
    "plt.savefig('../plots/ThrustDistributions.pdf', bbox_inches='tight')\n",
    "plt.show()"
   ]
  }
 ],
 "metadata": {
  "kernelspec": {
   "display_name": "Python 3",
   "language": "python",
   "name": "python3"
  },
  "language_info": {
   "codemirror_mode": {
    "name": "ipython",
    "version": 3
   },
   "file_extension": ".py",
   "mimetype": "text/x-python",
   "name": "python",
   "nbconvert_exporter": "python",
   "pygments_lexer": "ipython3",
   "version": "3.8.5"
  }
 },
 "nbformat": 4,
 "nbformat_minor": 4
}
